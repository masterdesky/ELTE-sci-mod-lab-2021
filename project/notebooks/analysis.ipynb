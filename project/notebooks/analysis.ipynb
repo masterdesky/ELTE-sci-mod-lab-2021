{
 "cells": [
  {
   "cell_type": "code",
   "execution_count": 16,
   "id": "caring-court",
   "metadata": {},
   "outputs": [],
   "source": [
    "import os\n",
    "import numpy as np\n",
    "import pandas as pd\n",
    "import matplotlib.pyplot as plt"
   ]
  },
  {
   "cell_type": "code",
   "execution_count": 6,
   "id": "naughty-overall",
   "metadata": {},
   "outputs": [
    {
     "data": {
      "text/plain": [
       "['CMakeCache.txt',\n",
       " 'project_nebula',\n",
       " 'run1.mac',\n",
       " 'c.log',\n",
       " 'init_vis.mac',\n",
       " 'm.log',\n",
       " 'CMakeFiles',\n",
       " 'cmake_install.cmake',\n",
       " 'project_nebula.in',\n",
       " 'project_nebula.out',\n",
       " 'NEBULA_nt_RodData_t1.csv',\n",
       " 'NEBULA_nt_RodData.csv',\n",
       " 'NEBULA_nt_RodData_t0.csv',\n",
       " 'Makefile',\n",
       " 'vis.mac',\n",
       " 'run2.mac']"
      ]
     },
     "execution_count": 6,
     "metadata": {},
     "output_type": "execute_result"
    }
   ],
   "source": [
    "os.listdir('../project_nebula/NEBULA_build/')"
   ]
  },
  {
   "cell_type": "code",
   "execution_count": 9,
   "id": "recorded-provision",
   "metadata": {},
   "outputs": [],
   "source": [
    "columns = ['Counter{}'.format(i+1) for i in range(20)]\n",
    "data_0 = pd.read_csv('../project_nebula/NEBULA_build/NEBULA_nt_RodData_t0.csv', skiprows=24, names=columns)\n",
    "data_1 = pd.read_csv('../project_nebula/NEBULA_build/NEBULA_nt_RodData_t1.csv', skiprows=24, names=columns)\n",
    "data = pd.concat([data_0, data_1])"
   ]
  },
  {
   "cell_type": "code",
   "execution_count": 15,
   "id": "accomplished-vampire",
   "metadata": {},
   "outputs": [
    {
     "data": {
      "text/plain": [
       "array([[0.00000000e+00, 0.00000000e+00, 2.32834330e+02, 1.13391725e+02,\n",
       "        4.17337805e+02, 1.67736142e+02, 2.28964794e+01, 1.74762413e+02,\n",
       "        4.18074750e+02, 4.64425320e+02],\n",
       "       [3.82712357e+02, 4.75088065e+02, 1.73621653e+02, 2.06579160e+02,\n",
       "        2.23767100e+02, 2.58737658e+02, 2.79371580e+00, 7.45273000e-02,\n",
       "        3.00003000e-02, 0.00000000e+00]])"
      ]
     },
     "execution_count": 15,
     "metadata": {},
     "output_type": "execute_result"
    }
   ],
   "source": [
    "data.sum().values.reshape(2,10)"
   ]
  },
  {
   "cell_type": "code",
   "execution_count": 13,
   "id": "covered-mumbai",
   "metadata": {},
   "outputs": [],
   "source": [
    "rows = 2\n",
    "cols = 10\n",
    "\n",
    "for i in range(cols):\n",
    "    for j in range(rows):\n",
    "        code = j + rows*i\n",
    "        "
   ]
  },
  {
   "cell_type": "code",
   "execution_count": 19,
   "id": "assured-swift",
   "metadata": {},
   "outputs": [
    {
     "data": {
      "text/plain": [
       "<matplotlib.image.AxesImage at 0x7f49ea72eb50>"
      ]
     },
     "execution_count": 19,
     "metadata": {},
     "output_type": "execute_result"
    },
    {
     "data": {
      "image/png": "[encoded data removed]",
      "text/plain": [
       "<Figure size 1152x230.4 with 1 Axes>"
      ]
     },
     "metadata": {
      "needs_background": "light"
     },
     "output_type": "display_data"
    }
   ],
   "source": [
    "plt.matshow(data.sum().values.reshape(10,2).T)"
   ]
  }
 ],
 "metadata": {
  "kernelspec": {
   "display_name": "Python 3",
   "language": "python",
   "name": "python3"
  },
  "language_info": {
   "codemirror_mode": {
    "name": "ipython",
    "version": 3
   },
   "file_extension": ".py",
   "mimetype": "text/x-python",
   "name": "python",
   "nbconvert_exporter": "python",
   "pygments_lexer": "ipython3",
   "version": "3.9.2"
  }
 },
 "nbformat": 4,
 "nbformat_minor": 5
}
